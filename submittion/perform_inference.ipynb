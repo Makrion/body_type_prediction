{
 "cells": [
  {
   "cell_type": "code",
   "execution_count": 1,
   "metadata": {},
   "outputs": [],
   "source": [
    "import numpy as np\n",
    "import pandas as pd\n",
    "import pickle\n",
    "from sklearn.impute import SimpleImputer"
   ]
  },
  {
   "cell_type": "code",
   "execution_count": 2,
   "metadata": {},
   "outputs": [],
   "source": [
    "test_file = 'test.csv'\n",
    "test_df = pd.read_csv(test_file)"
   ]
  },
  {
   "cell_type": "code",
   "execution_count": 3,
   "metadata": {},
   "outputs": [],
   "source": [
    "'''\n",
    "    constants\n",
    "'''\n",
    "CATEGORAL_COLUMNS = ['Gender', 'H_Cal_Consump', 'Alcohol_Consump', 'Smoking', 'Food_Between_Meals', 'Fam_Hist', 'H_Cal_Burn', 'Transport']\n",
    "POSSIBLE_COLUMNS = ['Gender', 'Age', 'Height', 'Weight', 'H_Cal_Consump', 'Veg_Consump', 'Water_Consump', 'Alcohol_Consump', 'Smoking', 'Meal_Count',\n",
    "               'Food_Between_Meals', 'Fam_Hist', 'H_Cal_Burn', 'Phys_Act',\n",
    "               'Time_E_Dev', 'Transport']\n",
    "CATEGORICAL_COLUMNS_MAPPING = {\n",
    "    'Gender': ['Female', 'Male'],\n",
    "    'H_Cal_Consump': ['yes', 'no'],\n",
    "    'Alcohol_Consump': ['no', 'Sometimes', 'Frequently', 'Always'],\n",
    "    'Smoking': ['no', 'yes'],\n",
    "    'Food_Between_Meals': ['Frequently' ,'Sometimes' ,'no' ,'Always'],\n",
    "    'Fam_Hist': ['yes', 'no'],\n",
    "    'H_Cal_Burn': ['no' ,'yes'],\n",
    "    'Transport': ['Public_Transportation' ,'Automobile', 'Walking' ,'Bike' ,'Motorbike']\n",
    "}\n",
    "\n",
    "'''\n",
    "    apply label decoding for y\n",
    "'''\n",
    "def label_decoding(y):\n",
    "    map_hash = { '0': 'Body Level 1', '1': 'Body Level 2', '2': 'Body Level 3', '3': 'Body Level 4'}\n",
    "    y_decoded  = [map_hash[str(label)] for label in y]\n",
    "    return y_decoded\n",
    "\n",
    "'''\n",
    "    apply categorical values encoding for x\n",
    "'''\n",
    "def categorical_values_encoding(x):\n",
    "    x_encoded = x.copy()\n",
    "    mapping = {}\n",
    "    for column in CATEGORAL_COLUMNS:\n",
    "        unique_values = CATEGORICAL_COLUMNS_MAPPING[column]\n",
    "        mapping[column] = {value: index for index, value in enumerate(unique_values)}\n",
    "    for column, values_map in mapping.items():\n",
    "        x_encoded[column] = x_encoded[column].map(values_map)\n",
    "\n",
    "\n",
    "    #reorder\n",
    "    x_encoded = x_encoded.reindex(columns=POSSIBLE_COLUMNS)\n",
    "\n",
    "    return x_encoded"
   ]
  },
  {
   "cell_type": "code",
   "execution_count": 5,
   "metadata": {},
   "outputs": [],
   "source": [
    "# encode categorical cols  \n",
    "x_test = categorical_values_encoding(test_df)\n",
    "\n",
    "# remove nans if there is any\n",
    "imputer = SimpleImputer(strategy='median')\n",
    "x_imputed = imputer.fit_transform(x_test)\n",
    "x_test_imputed = pd.DataFrame(x_imputed, columns=x_test.columns)\n",
    "\n",
    "\n",
    "# load the feature models\n",
    "model = pickle.load(open('model.pkl', 'rb'))\n",
    "\n",
    "\n",
    "\n",
    "# get the predictions\n",
    "out = model.predict(x_test_imputed)\n",
    "\n",
    "\n",
    "# out_df = pd.DataFrame({'Body_Level': out})\n",
    "\n",
    "# # decode classes\n",
    "out_df_labels = label_decoding(out)\n",
    "\n",
    "# # save the predictions in text file\n",
    "with open('preds.txt', 'w') as file:\n",
    "    # Write the list elements to the file\n",
    "    for item in out_df_labels:\n",
    "        file.write(str(item) + '\\n')"
   ]
  }
 ],
 "metadata": {
  "kernelspec": {
   "display_name": "base",
   "language": "python",
   "name": "python3"
  },
  "language_info": {
   "codemirror_mode": {
    "name": "ipython",
    "version": 3
   },
   "file_extension": ".py",
   "mimetype": "text/x-python",
   "name": "python",
   "nbconvert_exporter": "python",
   "pygments_lexer": "ipython3",
   "version": "3.9.13"
  },
  "orig_nbformat": 4
 },
 "nbformat": 4,
 "nbformat_minor": 2
}
