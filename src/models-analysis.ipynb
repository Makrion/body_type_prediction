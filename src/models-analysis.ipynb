{
 "cells": [
  {
   "attachments": {},
   "cell_type": "markdown",
   "metadata": {},
   "source": [
    "# Imports -> Data Loading -> Handling Class Imbalance :"
   ]
  },
  {
   "cell_type": "code",
   "execution_count": 1,
   "metadata": {},
   "outputs": [],
   "source": [
    "import pandas as pd \n",
    "import numpy as np\n",
    "import matplotlib.pyplot as plt\n",
    "import seaborn as sns \n",
    "import missingno as msno \n",
    "from sklearn.model_selection import train_test_split\n",
    "from sklearn.dummy import DummyClassifier\n",
    "from sklearn.metrics import accuracy_score, f1_score\n",
    "import pandas as pd\n",
    "from sklearn.preprocessing import OneHotEncoder\n",
    "from sklearn.compose import ColumnTransformer\n",
    "from sklearn.preprocessing import StandardScaler\n",
    "from imblearn.over_sampling import SMOTE\n",
    "from sklearn.linear_model import LinearRegression\n",
    "from sklearn.linear_model import LogisticRegression\n",
    "from sklearn.linear_model import Perceptron\n",
    "from sklearn.ensemble import AdaBoostClassifier\n",
    "from sklearn.tree import DecisionTreeClassifier\n",
    "from sklearn.ensemble import RandomForestClassifier\n",
    "from sklearn.svm import SVC\n",
    "import helpers"
   ]
  },
  {
   "cell_type": "code",
   "execution_count": 2,
   "metadata": {},
   "outputs": [
    {
     "name": "stdout",
     "output_type": "stream",
     "text": [
      "Training set size: 1181\n",
      "Testing set size: 296\n"
     ]
    }
   ],
   "source": [
    "data = pd.read_csv(\"../data/body_level_classification_train.csv\")\n",
    "x = data.drop('Body_Level', axis=1)\n",
    "y = data['Body_Level']\n",
    "x_train, x_test, y_train, y_test = train_test_split(x, y, test_size=0.2, random_state=31) #31\n",
    "\n",
    "class_column = 'Body_Level'\n",
    "class_labels = ['Body Level 1', 'Body Level 2', 'Body Level 3', 'Body Level 4']\n",
    "class_colors = ['blue','orange', 'green', 'red']\n",
    "numeric_columns = x_train.select_dtypes(include=[float, int]).columns\n",
    "categorical_columns = [x for x in x_train.columns if x not in numeric_columns]\n",
    "\n",
    "print(\"Training set size:\", len(x_train))\n",
    "print(\"Testing set size:\", len(x_test))\n"
   ]
  },
  {
   "cell_type": "code",
   "execution_count": 3,
   "metadata": {},
   "outputs": [
    {
     "name": "stderr",
     "output_type": "stream",
     "text": [
      "Exception ignored on calling ctypes callback function: <function _ThreadpoolInfo._find_modules_with_dl_iterate_phdr.<locals>.match_module_callback at 0x7f6d3853b040>\n",
      "Traceback (most recent call last):\n",
      "  File \"/home/makrion/anaconda3/lib/python3.9/site-packages/threadpoolctl.py\", line 400, in match_module_callback\n",
      "    self._make_module_from_path(filepath)\n",
      "  File \"/home/makrion/anaconda3/lib/python3.9/site-packages/threadpoolctl.py\", line 515, in _make_module_from_path\n",
      "    module = module_class(filepath, prefix, user_api, internal_api)\n",
      "  File \"/home/makrion/anaconda3/lib/python3.9/site-packages/threadpoolctl.py\", line 606, in __init__\n",
      "    self.version = self.get_version()\n",
      "  File \"/home/makrion/anaconda3/lib/python3.9/site-packages/threadpoolctl.py\", line 646, in get_version\n",
      "    config = get_config().split()\n",
      "AttributeError: 'NoneType' object has no attribute 'split'\n",
      "Exception ignored on calling ctypes callback function: <function _ThreadpoolInfo._find_modules_with_dl_iterate_phdr.<locals>.match_module_callback at 0x7f6d3853b040>\n",
      "Traceback (most recent call last):\n",
      "  File \"/home/makrion/anaconda3/lib/python3.9/site-packages/threadpoolctl.py\", line 400, in match_module_callback\n",
      "    self._make_module_from_path(filepath)\n",
      "  File \"/home/makrion/anaconda3/lib/python3.9/site-packages/threadpoolctl.py\", line 515, in _make_module_from_path\n",
      "    module = module_class(filepath, prefix, user_api, internal_api)\n",
      "  File \"/home/makrion/anaconda3/lib/python3.9/site-packages/threadpoolctl.py\", line 606, in __init__\n",
      "    self.version = self.get_version()\n",
      "  File \"/home/makrion/anaconda3/lib/python3.9/site-packages/threadpoolctl.py\", line 646, in get_version\n",
      "    config = get_config().split()\n",
      "AttributeError: 'NoneType' object has no attribute 'split'\n",
      "Exception ignored on calling ctypes callback function: <function _ThreadpoolInfo._find_modules_with_dl_iterate_phdr.<locals>.match_module_callback at 0x7f6ce925f3a0>\n",
      "Traceback (most recent call last):\n",
      "  File \"/home/makrion/anaconda3/lib/python3.9/site-packages/threadpoolctl.py\", line 400, in match_module_callback\n",
      "    self._make_module_from_path(filepath)\n",
      "  File \"/home/makrion/anaconda3/lib/python3.9/site-packages/threadpoolctl.py\", line 515, in _make_module_from_path\n",
      "    module = module_class(filepath, prefix, user_api, internal_api)\n",
      "  File \"/home/makrion/anaconda3/lib/python3.9/site-packages/threadpoolctl.py\", line 606, in __init__\n",
      "    self.version = self.get_version()\n",
      "  File \"/home/makrion/anaconda3/lib/python3.9/site-packages/threadpoolctl.py\", line 646, in get_version\n",
      "    config = get_config().split()\n",
      "AttributeError: 'NoneType' object has no attribute 'split'\n"
     ]
    }
   ],
   "source": [
    "x_train_sampled, y_train_sampled = helpers.class_balance(x_train, y_train, categorical_columns, oversampling_only=True)"
   ]
  },
  {
   "attachments": {},
   "cell_type": "markdown",
   "metadata": {},
   "source": [
    "# Evaluating Models"
   ]
  },
  {
   "attachments": {},
   "cell_type": "markdown",
   "metadata": {},
   "source": [
    "### I will go on with those classifiers:\n",
    "    1. adaboost.\n",
    "    2. SVM.\n",
    "    3. random forrest\n",
    "    4. logistic Regression."
   ]
  },
  {
   "attachments": {},
   "cell_type": "markdown",
   "metadata": {},
   "source": [
    "##### adaboost: \n"
   ]
  },
  {
   "cell_type": "code",
   "execution_count": 4,
   "metadata": {},
   "outputs": [
    {
     "name": "stdout",
     "output_type": "stream",
     "text": [
      "adaboost classifier results:\n",
      "\n",
      "     out of sample ( predict(test) ):\n",
      "         accuracy: 97.63513513513513\n",
      "         weighted F1 score: 97.63735011416699\n",
      "\n",
      "     in sample ( predict(train) ):\n",
      "         accuracy: 100.0\n",
      "         weighted F1 score: 100.0\n"
     ]
    }
   ],
   "source": [
    "# Create a base classifier\n",
    "base_classifier = DecisionTreeClassifier(max_depth=5)\n",
    "# Create an AdaBoost classifier\n",
    "adaboost_classifier = AdaBoostClassifier(estimator=base_classifier, n_estimators=50, random_state=42)\n",
    "print(\"adaboost classifier results:\\n\")\n",
    "adaboost_classifier, doc = helpers.test_model(adaboost_classifier, x_train_sampled, y_train_sampled, x_test, y_test)"
   ]
  },
  {
   "attachments": {},
   "cell_type": "markdown",
   "metadata": {},
   "source": [
    "##### SVM."
   ]
  },
  {
   "cell_type": "code",
   "execution_count": 5,
   "metadata": {},
   "outputs": [
    {
     "name": "stdout",
     "output_type": "stream",
     "text": [
      "svm classifier results:\n",
      "\n",
      "     out of sample ( predict(test) ):\n",
      "         accuracy: 92.56756756756756\n",
      "         weighted F1 score: 92.34305620980497\n",
      "\n",
      "     in sample ( predict(train) ):\n",
      "         accuracy: 96.36871508379889\n",
      "         weighted F1 score: 96.3405849945974\n"
     ]
    }
   ],
   "source": [
    "# Create svm classifier\n",
    "svm_classifier = SVC(kernel='linear', random_state=42)\n",
    "print(\"svm classifier results:\\n\")\n",
    "svm_classifier, doc = helpers.test_model(svm_classifier, x_train_sampled, y_train_sampled, x_test, y_test)"
   ]
  },
  {
   "attachments": {},
   "cell_type": "markdown",
   "metadata": {},
   "source": [
    "##### random forrest:"
   ]
  },
  {
   "cell_type": "code",
   "execution_count": 6,
   "metadata": {},
   "outputs": [
    {
     "name": "stdout",
     "output_type": "stream",
     "text": [
      "random forrest classifier results:\n",
      "\n",
      "     out of sample ( predict(test) ):\n",
      "         accuracy: 96.28378378378379\n",
      "         weighted F1 score: 96.35971994977031\n",
      "\n",
      "     in sample ( predict(train) ):\n",
      "         accuracy: 100.0\n",
      "         weighted F1 score: 100.0\n"
     ]
    }
   ],
   "source": [
    "# Create random forrest classifier\n",
    "randomforrest_classifier = RandomForestClassifier(n_estimators=100, random_state=42)\n",
    "print(\"random forrest classifier results:\\n\")\n",
    "randomforrest_classifier, doc = helpers.test_model(randomforrest_classifier, x_train_sampled, y_train_sampled, x_test, y_test)"
   ]
  },
  {
   "attachments": {},
   "cell_type": "markdown",
   "metadata": {},
   "source": [
    "##### logistic Regression:"
   ]
  },
  {
   "cell_type": "code",
   "execution_count": 7,
   "metadata": {},
   "outputs": [
    {
     "name": "stdout",
     "output_type": "stream",
     "text": [
      "logistic regression classifier results:\n",
      "\n",
      "     out of sample ( predict(test) ):\n",
      "         accuracy: 90.54054054054053\n",
      "         weighted F1 score: 90.31441756165867\n",
      "\n",
      "     in sample ( predict(train) ):\n",
      "         accuracy: 91.4804469273743\n",
      "         weighted F1 score: 91.44529786280899\n"
     ]
    }
   ],
   "source": [
    "# Create a logistic regression classifier\n",
    "logisticregression_classifier = LogisticRegression(max_iter=10000)\n",
    "print(\"logistic regression classifier results:\\n\")\n",
    "logisticregression_classifier, doc = helpers.test_model(logisticregression_classifier, x_train_sampled, y_train_sampled, x_test, y_test)"
   ]
  }
 ],
 "metadata": {
  "kernelspec": {
   "display_name": "base",
   "language": "python",
   "name": "python3"
  },
  "language_info": {
   "codemirror_mode": {
    "name": "ipython",
    "version": 3
   },
   "file_extension": ".py",
   "mimetype": "text/x-python",
   "name": "python",
   "nbconvert_exporter": "python",
   "pygments_lexer": "ipython3",
   "version": "3.9.13"
  },
  "orig_nbformat": 4
 },
 "nbformat": 4,
 "nbformat_minor": 2
}
